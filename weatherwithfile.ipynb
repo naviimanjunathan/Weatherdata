{
 "cells": [
  {
   "cell_type": "code",
   "execution_count": 18,
   "metadata": {},
   "outputs": [
    {
     "name": "stdout",
     "output_type": "stream",
     "text": [
      "Enter city name : Namakkal\n",
      "{'coord': {'lon': 78.1652, 'lat': 11.2213}, 'weather': [{'id': 804, 'main': 'Clouds', 'description': 'overcast clouds', 'icon': '04d'}], 'base': 'stations', 'main': {'temp': 306.66, 'feels_like': 304.88, 'temp_min': 306.66, 'temp_max': 306.66, 'pressure': 1006, 'humidity': 23, 'sea_level': 1006, 'grnd_level': 984}, 'visibility': 10000, 'wind': {'speed': 3.16, 'deg': 87, 'gust': 4.87}, 'clouds': {'all': 100}, 'dt': 1617972647, 'sys': {'country': 'IN', 'sunrise': 1617928756, 'sunset': 1617973091}, 'timezone': 19800, 'id': 1262039, 'name': 'Namakkal', 'cod': 200}\n",
      " Temperature (in kelvin unit) = 306.66\n",
      " atmospheric pressure (in hPa unit) = 1006\n",
      " humidity (in percentage) = 23\n",
      " description = overcast clouds\n",
      "{'lon': 78.1652, 'lat': 11.2213}\n",
      "Namakkal\n"
     ]
    }
   ],
   "source": [
    "# Python program to find current \n",
    "# weather details of any city\n",
    "# using openweathermap api\n",
    "# import required modules\n",
    "import requests, json\n",
    "# Enter your API key here\n",
    "api_key = \"05d6694161fcb0b6acea7621170265c5\"\n",
    "# base_url variable to store url\n",
    "base_url = \"http://api.openweathermap.org/data/2.5/weather?\"\n",
    "# Give city name\n",
    "city_name = input(\"Enter city name : \")\n",
    "# complete_url variable to store\n",
    "# complete url address\n",
    "complete_url = base_url + \"appid=\" + api_key + \"&q=\" + city_name\n",
    "# get method of requests module\n",
    "# return response object\n",
    "response = requests.get(complete_url)\n",
    "# json method of response object \n",
    "# convert json format data into\n",
    "# python format data\n",
    "x = response.json()\n",
    "print(x)\n",
    "# Now x contains list of nested dictionaries\n",
    "# Check the value of \"cod\" key is equal to\n",
    "# \"404\", means city is found otherwise,\n",
    "# city is not found\n",
    "if x[\"cod\"] != \"404\":\n",
    "    # store the value of \"main\"\n",
    "    # key in variable y\n",
    "    y = x['main']\n",
    "    # store the value corresponding\n",
    "    # to the \"temp\" key of y\n",
    "    current_temperature = y[\"temp\"]\n",
    "    # store the value corresponding\n",
    "    # to the \"pressure\" key of y\n",
    "    current_pressure = y[\"pressure\"]\n",
    "    # store the value corresponding\n",
    "    # to the \"humidity\" key of y\n",
    "    current_humidiy = y[\"humidity\"]\n",
    "    # store the value of \"weather\"\n",
    "    # key in variable z\n",
    "    z = x[\"weather\"]\n",
    "    coordinates = x['coord']\n",
    "    name = x['name']\n",
    "    # store the value corresponding \n",
    "    # to the \"description\" key at \n",
    "    # the 0th index of z\n",
    "    weather_description = z[0][\"description\"]\n",
    "    # print following values\n",
    "    print(\" Temperature (in kelvin unit) = \" +\n",
    "                    str(current_temperature) + \n",
    "          \"\\n atmospheric pressure (in hPa unit) = \" +\n",
    "                    str(current_pressure) +\n",
    "          \"\\n humidity (in percentage) = \" +\n",
    "                    str(current_humidiy) +\n",
    "          \"\\n description = \" +\n",
    "                    str(weather_description)) \n",
    "    print(str(coordinates))\n",
    "    print(name)\n",
    "    f = open(\"test1.txt\",'a+',encoding = 'utf-8')\n",
    "    f.write(\"City= \"+ str(city_name) + \"\\n Temperature (in kelvin unit) = \" +\n",
    "                    str(current_temperature) + \n",
    "          \"\\n atmospheric pressure (in hPa unit) = \" +\n",
    "                    str(current_pressure) +\n",
    "          \"\\n humidity (in percentage) = \" +\n",
    "                    str(current_humidiy) +\n",
    "          \"\\n description = \" +\n",
    "                    str(weather_description)+\"\\n\"+\"\\n\") \n",
    "else:\n",
    "    print(\" City Not Found \")"
   ]
  },
  {
   "cell_type": "code",
   "execution_count": null,
   "metadata": {},
   "outputs": [],
   "source": []
  },
  {
   "cell_type": "code",
   "execution_count": null,
   "metadata": {},
   "outputs": [],
   "source": []
  }
 ],
 "metadata": {
  "kernelspec": {
   "display_name": "Python 3",
   "language": "python",
   "name": "python3"
  },
  "language_info": {
   "codemirror_mode": {
    "name": "ipython",
    "version": 3
   },
   "file_extension": ".py",
   "mimetype": "text/x-python",
   "name": "python",
   "nbconvert_exporter": "python",
   "pygments_lexer": "ipython3",
   "version": "3.7.6"
  }
 },
 "nbformat": 4,
 "nbformat_minor": 4
}
